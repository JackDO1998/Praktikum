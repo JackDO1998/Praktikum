{
 "metadata": {
  "language_info": {
   "codemirror_mode": {
    "name": "ipython",
    "version": 3
   },
   "file_extension": ".py",
   "mimetype": "text/x-python",
   "name": "python",
   "nbconvert_exporter": "python",
   "pygments_lexer": "ipython3",
   "version": "3.8.5-final"
  },
  "orig_nbformat": 2,
  "kernelspec": {
   "name": "python3",
   "display_name": "Python 3",
   "language": "python"
  }
 },
 "nbformat": 4,
 "nbformat_minor": 2,
 "cells": [
  {
   "cell_type": "code",
   "execution_count": 1,
   "metadata": {},
   "outputs": [],
   "source": [
    "import numpy as np \n",
    "import matplotlib.pyplot as plt \n",
    "from uncertainties import ufloat \n",
    "import uncertainties.unumpy as unp\n",
    "from scipy.optimize import curve_fit"
   ]
  },
  {
   "cell_type": "code",
   "execution_count": 2,
   "metadata": {},
   "outputs": [
    {
     "output_type": "stream",
     "name": "stdout",
     "text": [
      "[15.7 15.8 15.6 15.6 15.6 15.6 15.6 15.6 15.7 15.7] [132.3 131.9 132.1 131.8 131.3 131.5 131.  131.2 131.1 130.6]\n"
     ]
    }
   ],
   "source": [
    "#Daten Einlesen\n",
    "KugelKlr=np.genfromtxt('Kugel.dat', usecols=(1))\n",
    "Kugelgrr=np.genfromtxt('Kugel.dat', usecols=(2))\n",
    "\n",
    "#Mittelwerte berechnen\n",
    "KugelKlm=np.mean(KugelKlr)\n",
    "Kugelgrm=np.mean(Kugelgrr)\n",
    "\n",
    "#Mittelwertfehler berechnen\n",
    "KugelKlf=np.std(KugelKlr) / np.sqrt(len(KugelKlr))\n",
    "Kugelgrf=np.std(Kugelgrr) / np.sqrt(len(Kugelgrr))\n"
   ]
  },
  {
   "cell_type": "code",
   "execution_count": null,
   "metadata": {},
   "outputs": [],
   "source": []
  }
 ]
}