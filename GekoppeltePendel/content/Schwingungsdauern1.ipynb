{
 "metadata": {
  "language_info": {
   "codemirror_mode": {
    "name": "ipython",
    "version": 3
   },
   "file_extension": ".py",
   "mimetype": "text/x-python",
   "name": "python",
   "nbconvert_exporter": "python",
   "pygments_lexer": "ipython3",
   "version": "3.8.5-final"
  },
  "orig_nbformat": 2,
  "kernelspec": {
   "name": "python3",
   "display_name": "Python 3",
   "language": "python"
  }
 },
 "nbformat": 4,
 "nbformat_minor": 2,
 "cells": [
  {
   "cell_type": "code",
   "execution_count": 13,
   "metadata": {},
   "outputs": [],
   "source": [
    "import numpy as np \n",
    "import matplotlib.pyplot as plt \n",
    "from uncertainties import ufloat"
   ]
  },
  {
   "cell_type": "code",
   "execution_count": 14,
   "metadata": {},
   "outputs": [],
   "source": [
    "#Daten einlesen 0,5m Pendel\n",
    "T1505=np.genfromtxt('daten50.dat', usecols=(1))\n",
    "T2505=np.genfromtxt('daten50.dat', usecols=(2))\n",
    "Tp505=np.genfromtxt('daten50.dat', usecols=(3))\n",
    "Tm505=np.genfromtxt('daten50.dat', usecols=(4))\n",
    "TS50R=np.genfromtxt('daten50.dat', usecols=(5))\n",
    "T505=np.genfromtxt('daten50.dat', usecols=(6))\n",
    "\n",
    "#Daten einlesen 0,75m Pendel\n",
    "T1755=np.genfromtxt('daten75.dat', usecols=(1))\n",
    "T2755=np.genfromtxt('daten75.dat', usecols=(2))\n",
    "Tp755=np.genfromtxt('daten75.dat', usecols=(3))\n",
    "Tm755=np.genfromtxt('daten75.dat', usecols=(4))\n",
    "TS75R=np.genfromtxt('daten75.dat', usecols=(5))\n",
    "T755=np.genfromtxt('daten75.dat', usecols=(6))\n",
    "\n",
    "#Daten durch 5 Teilen\n",
    "T150R=T1505/5\n",
    "T250R=T2505/5\n",
    "Tp50R=Tp505/5\n",
    "Tm50R=Tm505/5\n",
    "T50R=T505/5\n",
    "\n",
    "T175R=T1755/5\n",
    "T275R=T2755/5\n",
    "Tp75R=Tp755/5\n",
    "Tm75R=Tm755/5\n",
    "T75R=T755/5\n"
   ]
  },
  {
   "cell_type": "code",
   "execution_count": 15,
   "metadata": {},
   "outputs": [],
   "source": [
    "#Mittelwerte Berechnen\n",
    "T150M=np.mean(T150R)\n",
    "T250M=np.mean(T250R)\n",
    "Tp50M=np.mean(Tp50R)\n",
    "Tm50M=np.mean(Tm50R)\n",
    "TS50M=np.mean(TS50R)\n",
    "T50M=np.mean(T50R)\n",
    "\n",
    "T175M=np.mean(T175R)\n",
    "T275M=np.mean(T275R)\n",
    "Tp75M=np.mean(Tp75R)\n",
    "Tm75M=np.mean(Tm75R)\n",
    "TS75M=np.mean(TS75R)\n",
    "T75M=np.mean(T75R)\n",
    "\n"
   ]
  },
  {
   "cell_type": "code",
   "execution_count": 22,
   "metadata": {},
   "outputs": [],
   "source": [
    "#Mittelwertfehler\n",
    "T150F=np.std(T150R) / np.sqrt(len(T150R))\n",
    "T250F=np.std(T250R) / np.sqrt(len(T250R))\n",
    "Tp50F=np.std(Tp50R) / np.sqrt(len(Tp50R))\n",
    "Tm50F=np.std(Tm50R) / np.sqrt(len(Tm50R))\n",
    "TS50F=np.std(TS50R) / np.sqrt(len(TS50R))\n",
    "T50F=np.std(T50R) / np.sqrt(len(T50R))\n",
    "\n",
    "T175F=np.std(T175R) / np.sqrt(len(T175R))\n",
    "T275F=np.std(T275R) / np.sqrt(len(T275R))\n",
    "Tp75F=np.std(Tp75R) / np.sqrt(len(Tp75R))\n",
    "Tm75F=np.std(Tm75R) / np.sqrt(len(Tm75R))\n",
    "TS75F=np.std(TS75R) / np.sqrt(len(TS75R))\n",
    "T75F=np.std(T75R) / np.sqrt(len(T75R))"
   ]
  },
  {
   "cell_type": "code",
   "execution_count": 23,
   "metadata": {},
   "outputs": [
    {
     "output_type": "stream",
     "name": "stdout",
     "text": [
      "0,5m Pendel T1= 1.463+/-0.010\n0,5m Pendel T2= 1.456+/-0.007\n0,5m Pendel T+= 1.449+/-0.007\n0,5m Pendel T-= 1.426+/-0.006\n0,5m Pendel TS= 37.33+/-0.24\n0,5m Pendel T= 1.371+/-0.006\n0,75m Pendel T1= 1.680+/-0.004\n0,75m Pendel T2= 1.6816+/-0.0032\n0,75m Pendel T+= 1.683+/-0.007\n0,75m Pendel T-= 1.639+/-0.005\n0,75m Pendel TS= 63.7+/-0.4\n0,75m Pendel T= 1.677+/-0.009\n"
     ]
    }
   ],
   "source": [
    "#Fehlerbehaftete Größen\n",
    "T150=ufloat(T150M,T150F)\n",
    "T250=ufloat(T250M,T250F)\n",
    "Tp50=ufloat(Tp50M,Tp50F)\n",
    "Tm50=ufloat(Tm50M,Tm50F)\n",
    "TS50=ufloat(TS50M,TS50F)\n",
    "T50=ufloat(T50M,T50F)\n",
    "\n",
    "T175=ufloat(T175M,T175F)\n",
    "T275=ufloat(T275M,T275F)\n",
    "Tp75=ufloat(Tp75M,Tp75F)\n",
    "Tm75=ufloat(Tm75M,Tm75F)\n",
    "TS75=ufloat(TS75M,TS75F)\n",
    "T75=ufloat(T75M,T75F)\n",
    "\n",
    "print('0,5m Pendel T1=',T150)\n",
    "print('0,5m Pendel T2=',T250)\n",
    "print('0,5m Pendel T+=',Tp50)\n",
    "print('0,5m Pendel T-=',Tm50)\n",
    "print('0,5m Pendel TS=',TS50)\n",
    "print('0,5m Pendel T=',T50)\n",
    "\n",
    "print('0,75m Pendel T1=',T175)\n",
    "print('0,75m Pendel T2=',T275)\n",
    "print('0,75m Pendel T+=',Tp75)\n",
    "print('0,75m Pendel T-=',Tm75)\n",
    "print('0,75m Pendel TS=',TS75)\n",
    "print('0,75m Pendel T=',T75)\n"
   ]
  },
  {
   "cell_type": "code",
   "execution_count": null,
   "metadata": {},
   "outputs": [],
   "source": []
  }
 ]
}