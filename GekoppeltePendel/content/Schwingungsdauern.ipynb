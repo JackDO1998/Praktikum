{
 "metadata": {
  "language_info": {
   "codemirror_mode": {
    "name": "ipython",
    "version": 3
   },
   "file_extension": ".py",
   "mimetype": "text/x-python",
   "name": "python",
   "nbconvert_exporter": "python",
   "pygments_lexer": "ipython3",
   "version": "3.8.5-final"
  },
  "orig_nbformat": 2,
  "kernelspec": {
   "name": "python3",
   "display_name": "Python 3",
   "language": "python"
  }
 },
 "nbformat": 4,
 "nbformat_minor": 2,
 "cells": [
  {
   "cell_type": "code",
   "execution_count": 1,
   "metadata": {},
   "outputs": [],
   "source": [
    "import numpy as np \n",
    "import matplotlib.pyplot as plt "
   ]
  },
  {
   "cell_type": "code",
   "execution_count": 8,
   "metadata": {},
   "outputs": [],
   "source": [
    "#Daten einlesen 0,5m Pendel\n",
    "T1505=np.genfromtxt('daten50.dat', usecols=(1))\n",
    "T2505=np.genfromtxt('daten50.dat', usecols=(2))\n",
    "Tp505=np.genfromtxt('daten50.dat', usecols=(3))\n",
    "Tm505=np.genfromtxt('daten50.dat', usecols=(4))\n",
    "TS50=np.genfromtxt('daten50.dat', usecols=(5))\n",
    "T505=np.genfromtxt('daten50.dat', usecols=(6))\n",
    "\n",
    "#Daten einlesen 0,75m Pendel\n",
    "T1755=np.genfromtxt('daten75.dat', usecols=(1))\n",
    "T2755=np.genfromtxt('daten75.dat', usecols=(2))\n",
    "Tp755=np.genfromtxt('daten75.dat', usecols=(3))\n",
    "Tm755=np.genfromtxt('daten75.dat', usecols=(4))\n",
    "TS75=np.genfromtxt('daten75.dat', usecols=(5))\n",
    "T755=np.genfromtxt('daten75.dat', usecols=(6))\n",
    "\n",
    "#Daten durch 5 Teilen\n",
    "T150=T1505/5\n",
    "T250=T2505/5\n",
    "Tp50=Tp505/5\n",
    "Tm50=Tm505/5\n",
    "T50=T505/5\n",
    "\n",
    "T175=T1755/5\n",
    "T275=T2755/5\n",
    "Tp75=Tp755/5\n",
    "Tm75=Tm755/5\n",
    "T75=T755/5\n"
   ]
  },
  {
   "cell_type": "code",
   "execution_count": null,
   "metadata": {},
   "outputs": [],
   "source": []
  }
 ]
}