{
 "cells": [
  {
   "cell_type": "code",
   "execution_count": 1,
   "metadata": {
    "collapsed": false
   },
   "outputs": [
   ],
   "source": [
    "import numpy as np \n",
    "import matplotlib.pyplot as plt \n",
    "from uncertainties import ufloat\n",
    "import uncertainties.unumpy as unp\n",
    "from scipy.optimize import curve_fit\n",
    "import scipy.constants as const\n",
    "X=[0]"
   ]
  },
  {
   "cell_type": "code",
   "execution_count": 2,
   "metadata": {
    "collapsed": false
   },
   "outputs": [
   ],
   "source": [
    "def fehlerhinzu(A,f):\n",
    "    i=0\n",
    "    Z=[0]\n",
    "    rueckgabe=Z*len(A)\n",
    "    while i < len(A):\n",
    "        rueckgabe[i]=ufloat(A[i],f)\n",
    "        i=i+1\n",
    "    return rueckgabe"
   ]
  },
  {
   "cell_type": "code",
   "execution_count": 3,
   "metadata": {
    "collapsed": false
   },
   "outputs": [
   ],
   "source": [
    "def mittelwert(A):\n",
    "    Z=[0]\n",
    "    B=Z*len(A)\n",
    "    i=0\n",
    "    while i < len(A):\n",
    "        B[i]=A[i].n\n",
    "        i=i+1\n",
    "    MW=sum(B)/len(B)\n",
    "    Fehler=np.std(B,ddof=1)/np.sqrt(np.size(B))\n",
    "    rueckgabe=ufloat(MW,Fehler)\n",
    "    return rueckgabe"
   ]
  },
  {
   "cell_type": "code",
   "execution_count": 4,
   "metadata": {
    "collapsed": false
   },
   "outputs": [
    {
     "name": "stdout",
     "output_type": "stream",
     "text": [
      "n= [1.4137626628539797+/-0.08393145307349098, 1.4277254756933628+/-0.05452771378329825, 1.498827458524098+/-0.04891691209045807, 1.493080235218118+/-0.0413606696631369, 1.5061759587535093+/-0.03608495307256774, 1.487354975169087+/-0.030677461855452472, 1.4913397551493188+/-0.023637495365062444]\n",
      "Mittelwert von n 1.474+/-0.014\n"
     ]
    }
   ],
   "source": [
    "#Aufgabe 2\n",
    "alphar=[20,30,35,40,45,50,60]\n",
    "betar=[14,20.5,22.5,25.5,28.0,31.0,35.5]\n",
    "\n",
    "alpha=fehlerhinzu(alphar,1)\n",
    "beta=fehlerhinzu(betar,0.5)\n",
    "\n",
    "a=0\n",
    "n=X*len(alpha)\n",
    "alpharad=X*len(alpha)\n",
    "betarad=X*len(alpha)\n",
    "\n",
    "while a< len(alpha):\n",
    "    alpharad[a]=alpha[a]*const.pi/180\n",
    "    betarad[a]=beta[a]*const.pi/180\n",
    "    n[a]=unp.sin(alpharad[a])/unp.sin(betarad[a])\n",
    "    a=a+1\n",
    "\n",
    "nmittel=mittelwert(n)\n",
    "print('n=',n)\n",
    "print('Mittelwert von n',nmittel)"
   ]
  },
  {
   "cell_type": "code",
   "execution_count": 5,
   "metadata": {
    "collapsed": false
   },
   "outputs": [
    {
     "name": "stdout",
     "output_type": "stream",
     "text": [
      "Lichtgeschwindigkeit in Plexiglas= (2.034+/-0.019)e+08 m/s\n"
     ]
    }
   ],
   "source": [
    "v2=const.c/nmittel\n",
    "print('Lichtgeschwindigkeit in Plexiglas=',v2,'m/s')"
   ]
  },
  {
   "cell_type": "code",
   "execution_count": 6,
   "metadata": {
    "collapsed": false
   },
   "outputs": [
    {
     "name": "stdout",
     "output_type": "stream",
     "text": [
      "Beta berechnet in grad [13.416579441826018+/-0.6681632083925065, 19.82840095048465+/-0.6547625450369492, 22.899701177709765+/-0.6457370981939059, 25.85356448073417+/-0.6350642656288121, 28.66628513042962+/-0.6227095767528839, 31.311532229106582+/-0.6087087921613163, 35.9811472320974+/-0.5765681402944147]\n",
      "s1 in cm [0.6302114845570663+/-0.11639663369050876, 1.030807261460086+/-0.11873368979314877, 1.3704944172712619+/-0.11849715498892317, 1.622808447152486+/-0.11957704787255208, 1.9371189031615434+/-0.11988749445836512, 2.221939290047947+/-0.12115802455696582, 2.979866388540225+/-0.12044535676033212]\n",
      "Mittelwert von s1 1.68+/-0.30\n",
      "s in cm [0.6895185342616074+/-0.040050191194805705, 1.0982009675545046+/-0.04857611659639216, 1.3312148850674164+/-0.05392732753898402, 1.5887625308422408+/-0.05994533254786261, 1.875028874647329+/-0.06655444578670736, 2.194020409819843+/-0.0736237159302895, 2.9425818596855597+/-0.08814904217350093]\n",
      "Mittelwert von s 1.67+/-0.28\n"
     ]
    }
   ],
   "source": [
    "#Aufgbae 3 berechnung von beta\n",
    "betaber=X*len(alpha)\n",
    "s=X*len(alpha)\n",
    "s1=X*len(alpha)\n",
    "b=0\n",
    "d=5.85\n",
    "betaberg=X*len(alpha)\n",
    "while b < len(betaber):\n",
    "    betaber[b]=unp.arcsin(unp.sin(alpharad[b])/nmittel)\n",
    "    s[b]=d*(unp.sin(alpharad[b]-betaber[b]))/(unp.cos(betaber[b]))\n",
    "    s1[b]=d*(unp.sin(alpharad[b]-betarad[b]))/(unp.cos(betarad[b]))\n",
    "    betaberg[b]=betaber[b]*180/const.pi\n",
    "    b=b+1\n",
    "smittel=mittelwert(s)\n",
    "s1mittel=mittelwert(s1)\n",
    "print('Beta berechnet in grad',betaberg)\n",
    "print('s1 in cm',s1)\n",
    "print('Mittelwert von s1',s1mittel)\n",
    "print('s in cm',s)\n",
    "print('Mittelwert von s',smittel)"
   ]
  },
  {
   "cell_type": "code",
   "execution_count": 7,
   "metadata": {
    "collapsed": false
   },
   "outputs": [
    {
     "name": "stdout",
     "output_type": "stream",
     "text": [
      "Beta 1 grün [18.817555087682386+/-0.13856939987001576, 21.82083618631693+/-0.3176994438273297, 24.332547461735416+/-0.3978341860372294, 32.956581302638654+/-0.5474231593040243, 35.76746029267477+/-0.5761025304570042, 38.11188761117195+/-0.5956284105813111, 39.91836211542271+/-0.6084350795388732]\n",
      "Beta 2 grün [41.182444912317614+/-0.13856939987001576, 38.17916381368307+/-0.3176994438273297, 35.667452538264584+/-0.3978341860372294, 27.04341869736135+/-0.5474231593040243, 24.232539707325234+/-0.5761025304570042, 21.888112388828045+/-0.5956284105813111, 20.081637884577294+/-0.6084350795388732]\n",
      "Delta grün [51.0+/-1.4142135623730951, 43.0+/-1.4142135623730951, 41.0+/-1.4142135623730951, 38.0+/-1.4142135623730951, 38.0+/-1.4142135623730951, 39.0+/-1.4142135623730951, 41.0+/-1.4142135623730951]\n",
      "Mittelwert delta grün 41.6+/-1.7\n",
      "Beta 1 rot [19.124456379789905+/-0.16823233257952575, 22.144663525205736+/-0.3299135335202603, 24.735610317245346+/-0.40824829046386296, 33.50708975480788+/-0.5535593954145549, 36.34615579645168+/-0.5812573762131058, 38.70974936532512+/-0.6000664310472328, 40.52877936550931+/-0.6123724356957944]\n",
      "Beta 2 rot [40.875543620210095+/-0.16823233257952575, 37.855336474794264+/-0.3299135335202603, 35.264389682754654+/-0.40824829046386296, 26.492910245192117+/-0.5535593954145549, 23.65384420354832+/-0.5812573762131058, 21.29025063467488+/-0.6000664310472328, 19.47122063449069+/-0.6123724356957944]\n",
      "Delta rot [49.0+/-1.4142135623730951, 42.0+/-1.4142135623730951, 40.0+/-1.4142135623730951, 37.0+/-1.4142135623730951, 37.0+/-1.4142135623730951, 38.0+/-1.4142135623730951, 40.0+/-1.4142135623730951]\n",
      "Mittelwert delta rot 40.4+/-1.6\n"
     ]
    }
   ],
   "source": [
    "#Aufgabe 4\n",
    "alpha41r=[30,35,40,55,60,65,70]\n",
    "alpha42grunr=[81,68,61,43,38,34,31]\n",
    "alpha42rotr=[79,67,60,42,37,33,30]\n",
    "\n",
    "alpha41=fehlerhinzu(alpha41r,1)\n",
    "alpha42grun=fehlerhinzu(alpha42grunr,1)\n",
    "alpha42rot=fehlerhinzu(alpha42rotr,1)\n",
    "c=0\n",
    "beta1grun=X*len(alpha41)\n",
    "beta2grun=X*len(alpha41)\n",
    "beta1rot=X*len(alpha41)\n",
    "beta2rot=X*len(alpha41)\n",
    "deltagrun=X*len(alpha41)\n",
    "deltarot=X*len(alpha41)\n",
    "nkron=1.5\n",
    "while c < len(alpha41):\n",
    "    beta2grun[c]=(unp.arcsin(unp.sin((alpha42grun[c]*const.pi/180))/nkron))*180/const.pi\n",
    "    beta2rot[c]=(unp.arcsin(unp.sin((alpha42rot[c]*const.pi/180))/nkron))*180/const.pi\n",
    "    beta1grun[c]=((60)-beta2grun[c])\n",
    "    beta1rot[c]=((60)-beta2rot[c])\n",
    "    deltagrun[c]=alpha41[c]+alpha42grun[c]-60\n",
    "    deltarot[c]=alpha41[c]+alpha42rot[c]-60\n",
    "    c=c+1\n",
    "deltagrunMW=mittelwert(deltagrun)\n",
    "deltarotMW=mittelwert(deltarot)\n",
    "    \n",
    "print('Beta 1 grün',beta1grun)\n",
    "print('Beta 2 grün',beta2grun)\n",
    "print('Delta grün',deltagrun)\n",
    "print('Mittelwert delta grün',deltagrunMW)\n",
    "\n",
    "print('Beta 1 rot',beta1rot)\n",
    "print('Beta 2 rot',beta2rot)\n",
    "print('Delta rot',deltarot)\n",
    "print('Mittelwert delta rot',deltarotMW)\n",
    "    "
   ]
  },
  {
   "cell_type": "code",
   "execution_count": 8,
   "metadata": {
    "collapsed": false
   },
   "outputs": [
    {
     "name": "stdout",
     "output_type": "stream",
     "text": [
      "Lamda 100 rot [0.697564737441253+/-0.17410777176564127, 0.6093467170257374+/-0.08661599162069994, 0.6360299845884827+/-0.05710875459413372, 0.6470476127563018+/-0.042146464996977606, 0.6511363089143133+/-0.03300482456594999, 0.6512185474821228+/-0.026776400788888297, 0.648557856770781+/-0.022215710719767884, 0.6437975936375677+/-0.018700489547105206]\n",
      "Lamda 100 grün [0.5233595624294383+/-0.17429373389126457, 0.5226423163382673+/-0.08678840778675456, 0.5214482168007696+/-0.057461378423147746, 0.5197792270443983+/-0.04267974050821953, 0.5512747116339984+/-0.03355436313485654, 0.5426135907619277+/-0.027504020471624993, 0.5351522763084458+/-0.023117730047889577, 0.5479639334863468+/-0.019608644256553523]\n",
      "Lamda 300 rot [0.6360299845884828+/-0.05710875459413373, 0.6243443223598534+/-0.026970685055871173, 0.6373071515011624+/-0.015885444719205912]\n",
      "Lamda 300 grün [0.5214482168007696+/-0.057461378423147746, 0.5426135907619278+/-0.027504020471624997, 0.521635069762101+/-0.01712260290882961]\n",
      "Lamda 600 rot [0.6512185474821228+/-0.026776400788888297]\n",
      "Lamda 600 grün [0.5426135907619278+/-0.027504020471624997]\n",
      "Mittelwert Lambda rot= 0.644+/-0.006\n",
      "Mittelwert Lambda grün= 0.5327+/-0.0035\n"
     ]
    }
   ],
   "source": [
    "#Aufgabe 5\n",
    "d1=1/100\n",
    "d2=1/300\n",
    "d3=1/600\n",
    "k1=[1,2,3,4,5,6,7,8]\n",
    "k2=[1,2,3]\n",
    "k3=[1]\n",
    "\n",
    "alpha100rotr=[4,7,11,15,19,23,27,31]\n",
    "alpha100grunr=[3,6,9,12,16,19,22,26]\n",
    "alpha300rotr=[11,22,35]\n",
    "alpha300grunr=[9,19,28]\n",
    "alpha600rotr=[23]\n",
    "alpha600grunr=[19]\n",
    "\n",
    "alpha100rot=fehlerhinzu(alpha100rotr,1)\n",
    "alpha100grun=fehlerhinzu(alpha100grunr,1)\n",
    "alpha300rot=fehlerhinzu(alpha300rotr,1)\n",
    "alpha300grun=fehlerhinzu(alpha300grunr,1)\n",
    "alpha600rot=fehlerhinzu(alpha600rotr,1)\n",
    "alpha600grun=fehlerhinzu(alpha600grunr,1)\n",
    "\n",
    "\n",
    "lamda100rot=X*len(alpha100rot)\n",
    "lamda100grun=X*len(alpha100rot)\n",
    "lamda300rot=X*len(alpha300rot)\n",
    "lamda300grun=X*len(alpha300rot)\n",
    "lamda600rot=X*len(alpha600rot)\n",
    "lamda600grun=X*len(alpha600rot)\n",
    "d=0\n",
    "while d < len(alpha100rot):\n",
    "    lamda100rot[d]=d1*unp.sin(alpha100rot[d]*const.pi/180)/k1[d]*1000\n",
    "    lamda100grun[d]=d1*unp.sin(alpha100grun[d]*const.pi/180)/k1[d]*1000\n",
    "    d=d+1\n",
    "\n",
    "e=0\n",
    "while e < len(alpha300rot):\n",
    "    lamda300rot[e]=d2*unp.sin(alpha300rot[e]*const.pi/180)/k2[e]*1000\n",
    "    lamda300grun[e]=d2*unp.sin(alpha300grun[e]*const.pi/180)/k2[e]*1000\n",
    "    e=e+1\n",
    "    \n",
    "f=0\n",
    "while f < len(alpha600rot):\n",
    "    lamda600rot[f]=d3*unp.sin(alpha600rot[f]*const.pi/180)/k3[f]*1000\n",
    "    lamda600grun[f]=d3*unp.sin(alpha600grun[f]*const.pi/180)/k3[f]*1000\n",
    "    f=f+1\n",
    "\n",
    "lamdarot=mittelwert((lamda100rot+lamda300rot+lamda600rot))\n",
    "lamdagrun=mittelwert((lamda100grun+lamda300grun+lamda600grun))\n",
    "print('Lamda 100 rot',lamda100rot)\n",
    "print('Lamda 100 grün',lamda100grun)\n",
    "print('Lamda 300 rot',lamda300rot)\n",
    "print('Lamda 300 grün',lamda300grun)\n",
    "print('Lamda 600 rot',lamda600rot)\n",
    "print('Lamda 600 grün',lamda600grun)\n",
    "print('Mittelwert Lambda rot=',lamdarot)\n",
    "print('Mittelwert Lambda grün=',lamdagrun)\n"
   ]
  },
  {
   "cell_type": "code",
   "execution_count": 0,
   "metadata": {
    "collapsed": false
   },
   "outputs": [
   ],
   "source": [
   ]
  }
 ],
 "metadata": {
  "kernelspec": {
   "display_name": "Python 3 (system-wide)",
   "language": "python",
   "metadata": {
    "cocalc": {
     "description": "Python 3 programming language",
     "priority": 100,
     "url": "https://www.python.org/"
    }
   },
   "name": "python3",
   "resource_dir": "/ext/jupyter/kernels/python3"
  },
  "language_info": {
   "codemirror_mode": {
    "name": "ipython",
    "version": 3
   },
   "file_extension": ".py",
   "mimetype": "text/x-python",
   "name": "python",
   "nbconvert_exporter": "python",
   "pygments_lexer": "ipython3",
   "version": "3.8.5"
  }
 },
 "nbformat": 4,
 "nbformat_minor": 4
}