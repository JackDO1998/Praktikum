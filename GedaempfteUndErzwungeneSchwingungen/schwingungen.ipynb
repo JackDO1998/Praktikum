{
 "metadata": {
  "language_info": {
   "codemirror_mode": {
    "name": "ipython",
    "version": 3
   },
   "file_extension": ".py",
   "mimetype": "text/x-python",
   "name": "python",
   "nbconvert_exporter": "python",
   "pygments_lexer": "ipython3",
   "version": "3.9.1"
  },
  "orig_nbformat": 4,
  "kernelspec": {
   "name": "python3",
   "display_name": "Python 3.9.6 64-bit"
  },
  "interpreter": {
   "hash": "e3ed55d5c263998f26df9c8c2bec9c47a5fc78a7115cf84e2bdd54c906477a01"
  }
 },
 "nbformat": 4,
 "nbformat_minor": 2,
 "cells": [
  {
   "cell_type": "code",
   "execution_count": 1,
   "metadata": {},
   "outputs": [
    {
     "output_type": "error",
     "ename": "ModuleNotFoundError",
     "evalue": "No module named 'numpy'",
     "traceback": [
      "\u001b[1;31m---------------------------------------------------------------------------\u001b[0m",
      "\u001b[1;31mModuleNotFoundError\u001b[0m                       Traceback (most recent call last)",
      "\u001b[1;32m<ipython-input-1-2c62039a0c1f>\u001b[0m in \u001b[0;36m<module>\u001b[1;34m\u001b[0m\n\u001b[1;32m----> 1\u001b[1;33m \u001b[1;32mimport\u001b[0m \u001b[0mnumpy\u001b[0m \u001b[1;32mas\u001b[0m \u001b[0mnp\u001b[0m\u001b[1;33m\u001b[0m\u001b[1;33m\u001b[0m\u001b[0m\n\u001b[0m\u001b[0;32m      2\u001b[0m \u001b[1;32mimport\u001b[0m \u001b[0mmatplotlib\u001b[0m\u001b[1;33m.\u001b[0m\u001b[0mpyplot\u001b[0m \u001b[1;32mas\u001b[0m \u001b[0mplt\u001b[0m\u001b[1;33m\u001b[0m\u001b[1;33m\u001b[0m\u001b[0m\n\u001b[0;32m      3\u001b[0m \u001b[1;32mfrom\u001b[0m \u001b[0muncertainties\u001b[0m \u001b[1;32mimport\u001b[0m \u001b[0mufloat\u001b[0m\u001b[1;33m\u001b[0m\u001b[1;33m\u001b[0m\u001b[0m\n\u001b[0;32m      4\u001b[0m \u001b[1;32mimport\u001b[0m \u001b[0muncertainties\u001b[0m\u001b[1;33m.\u001b[0m\u001b[0munumpy\u001b[0m \u001b[1;32mas\u001b[0m \u001b[0munp\u001b[0m\u001b[1;33m\u001b[0m\u001b[1;33m\u001b[0m\u001b[0m\n\u001b[0;32m      5\u001b[0m \u001b[1;32mfrom\u001b[0m \u001b[0mscipy\u001b[0m\u001b[1;33m.\u001b[0m\u001b[0moptimize\u001b[0m \u001b[1;32mimport\u001b[0m \u001b[0mcurve_fit\u001b[0m\u001b[1;33m\u001b[0m\u001b[1;33m\u001b[0m\u001b[0m\n",
      "\u001b[1;31mModuleNotFoundError\u001b[0m: No module named 'numpy'"
     ]
    }
   ],
   "source": [
    "import numpy as np \n",
    "import matplotlib.pyplot as plt \n",
    "from uncertainties import ufloat\n",
    "import uncertainties.unumpy as unp\n",
    "from scipy.optimize import curve_fit\n",
    "import scipy.constants as const\n",
    "\n",
    "\n",
    "print (f'\\n -----------------------------------Aufgabe a-----------------------------------')\n",
    "\n",
    "t, U = np.genfromtxt('Daten1.txt', unpack = True)\n",
    "\n",
    "t *= 1#10**(-6)\n",
    "U *= 0.1#10**(-3) #Zeit wurde in Mikrosekunden gemessen\n",
    "U1 = abs(U) # da nur die Amplitude untersucht wird, schauen wir uns die einhüllende an\n",
    "\n",
    "def f(x, a, b):\n",
    "    return a*np.exp(b*x) # b = -2*np.pi*μ\n",
    "\n",
    "params1, covarianzmatrix1 = curve_fit(f, t, U1)\n",
    "error1 = np.sqrt(np.diag(covarianzmatrix1))\n",
    "\n",
    "\n",
    "\n",
    "\n",
    "\n",
    "plt.plot(t, U, 'rx',label = 'Messwerte Spannung')\n",
    "plt.plot(t, f(t, *params1), label = 'Ausgleichskurve')\n",
    "plt.xlabel('Spannung $U$ in V')\n",
    "plt.ylabel('Zeit $t$ in s')\n",
    "plt.legend(loc='best')\n",
    "plt.savefig('spannungsverlauf.pdf')\n",
    "\n",
    "print('a1 = {:.10f} ± {:.10f}'.format(params1[0], error1[0]))\n",
    "print('b1 = {:.4f} ±   {:.5f}'.format(params1[1], error1[1]))\n",
    "print(f'mu = { params1[1]/ (-2*np.pi)} +- {error1[1]/(-2*np.pi)} ')\n",
    "\n",
    "#print('a2 = {:.10f} ± {:.10f}'.format(params2[0], error2[0]))\n",
    "#print('b2 = {:.4f} ±   {:.5f}'.format(params2[1], error2[1]))\n",
    "\n",
    "b = ufloat(params1[1], error1[1])\n",
    "\n",
    "print(f'T_ex =' , 1/b)\n",
    "\n",
    "L = ufloat(16.78*1e-3, 0.09*1e-3) #Henry\n",
    "Rv = ufloat(67.2 , 0.2 )\n",
    "\n",
    "Reff = - 2*L*b\n",
    "print('Reff = ',Reff)\n",
    "\n",
    "print('Abweichung = ',(Reff-Rv)/Rv*100)\n",
    "\n",
    "print (f'\\n -----------------------------------Aufgabe b-----------------------------------')\n",
    "\n",
    "# diskrepanz da Drähte kabel und co ebenfalls einen wiederstand haben, theorie wert sollte niedriger als der experimentell festgestellte wert sein\n",
    "\n",
    "R = 2.91\n",
    "L = ufloat(16.78*1e-3, 0.09*1e-3) #Henry\n",
    "C = ufloat(2.066*1e-9 , 0.006*1e-9) #Farad\n",
    "\n",
    "R *= 1e3 # in Ohm\n",
    "\n",
    "Rt = 2*unp.sqrt(L/C)\n",
    "\n",
    "print(f'R_apt = {Rt}')\n",
    "print(f'R_ap = {R}')\n",
    "print(f'p = {(R-Rt.n)*100/Rt.n}') #Messwerte überprüfen?\n"
   ]
  },
  {
   "cell_type": "code",
   "execution_count": null,
   "metadata": {},
   "outputs": [],
   "source": []
  }
 ]
}